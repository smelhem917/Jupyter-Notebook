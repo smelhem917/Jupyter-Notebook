{
 "cells": [
  {
   "cell_type": "markdown",
   "id": "f28fe608-6340-47e4-adbd-d8ba89e06459",
   "metadata": {},
   "source": [
    "# Data Science Tools and Ecosystem"
   ]
  },
  {
   "cell_type": "markdown",
   "id": "bd4221d2-cfdd-4d9b-a927-8c53b210562c",
   "metadata": {},
   "source": [
    " In this notebook, Data Science Tools and Ecosystem are summarized."
   ]
  },
  {
   "cell_type": "markdown",
   "id": "c9bd7adb-ca10-4b29-90ee-1d76fadefa7c",
   "metadata": {},
   "source": [
    "# **Objectives**\n",
    "- List Popular Languages for Data Science\n",
    "- Commonly used libraries used by Data Scientists\n",
    "- Development Environment Open Source Tools used in Data Science\n",
    "  \n"
   ]
  },
  {
   "cell_type": "markdown",
   "id": "bd6dd36d-dedc-470a-a26e-0354bae9caaa",
   "metadata": {},
   "source": [
    "## Some of the popular languages that Data Scientists use are:\n",
    "1. Python\n",
    "2. R\n",
    "3. SQL"
   ]
  },
  {
   "cell_type": "markdown",
   "id": "b6739bb8-3323-4a6b-bd46-48c49b76690a",
   "metadata": {},
   "source": [
    "## Some of the commonly used libraries used by Data Scientists include:\n",
    "1. Panda\n",
    "2. Numpy\n",
    "3. Matplotlib"
   ]
  },
  {
   "cell_type": "markdown",
   "id": "7706b70e-a56b-41f1-aedb-1990a5eba8de",
   "metadata": {},
   "source": [
    "| Data Science Tools |\n",
    "| ------------------ |\n",
    "| R studio |\n",
    "| Apache Spark |\n",
    "| TensorFlow |"
   ]
  },
  {
   "cell_type": "markdown",
   "id": "d98bec27-012a-48b8-82c3-368c12e43a12",
   "metadata": {},
   "source": [
    "### Below are a few examples of evaluating arithmetic expressions in Python."
   ]
  },
  {
   "cell_type": "code",
   "execution_count": 25,
   "id": "bb78f63a-fd85-4be3-b5ef-70b096c805b2",
   "metadata": {},
   "outputs": [
    {
     "data": {
      "text/plain": [
       "17"
      ]
     },
     "execution_count": 25,
     "metadata": {},
     "output_type": "execute_result"
    }
   ],
   "source": [
    "# This is a simple arithmetic expression to multiply then add integers\n",
    "(3*4)+5"
   ]
  },
  {
   "cell_type": "code",
   "execution_count": 31,
   "id": "f86356c3-b6fa-4bb4-bada-c4f398be3c56",
   "metadata": {},
   "outputs": [
    {
     "name": "stdout",
     "output_type": "stream",
     "text": [
      "3.3333333333333335\n"
     ]
    }
   ],
   "source": [
    "# This will convert 200 minutes to hours by dividing by 60\n",
    "hours = (200/60)\n",
    "print (hours)"
   ]
  },
  {
   "cell_type": "markdown",
   "id": "00533359-59ce-404c-81da-1671b7e98edc",
   "metadata": {},
   "source": [
    "## Author\n",
    "Sarah Melhem"
   ]
  },
  {
   "cell_type": "code",
   "execution_count": null,
   "id": "efdc86f6-67f7-45f2-a18c-2eabcc5fc646",
   "metadata": {},
   "outputs": [],
   "source": []
  }
 ],
 "metadata": {
  "kernelspec": {
   "display_name": "Python 3 (ipykernel)",
   "language": "python",
   "name": "python3"
  },
  "language_info": {
   "codemirror_mode": {
    "name": "ipython",
    "version": 3
   },
   "file_extension": ".py",
   "mimetype": "text/x-python",
   "name": "python",
   "nbconvert_exporter": "python",
   "pygments_lexer": "ipython3",
   "version": "3.12.7"
  }
 },
 "nbformat": 4,
 "nbformat_minor": 5
}
